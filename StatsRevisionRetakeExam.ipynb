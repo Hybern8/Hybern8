{
  "cells": [
    {
      "cell_type": "markdown",
      "metadata": {
        "id": "view-in-github",
        "colab_type": "text"
      },
      "source": [
        "<a href=\"https://colab.research.google.com/github/Hybern8/Hybern8/blob/main/StatsRevisionRetakeExam.ipynb\" target=\"_parent\"><img src=\"https://colab.research.google.com/assets/colab-badge.svg\" alt=\"Open In Colab\"/></a>"
      ]
    },
    {
      "cell_type": "markdown",
      "metadata": {
        "id": "DnHj3psCb_Gd"
      },
      "source": [
        "## **Instllation of R**"
      ]
    },
    {
      "cell_type": "code",
      "execution_count": 2,
      "metadata": {
        "colab": {
          "base_uri": "https://localhost:8080/"
        },
        "id": "cQdqCP3QNIJL",
        "outputId": "31f36020-a91f-4faf-e711-c76e04646369"
      },
      "outputs": [
        {
          "output_type": "stream",
          "name": "stdout",
          "text": [
            "Looking in indexes: https://pypi.org/simple, https://us-python.pkg.dev/colab-wheels/public/simple/\n",
            "Requirement already satisfied: rpy2==3.5.1 in /usr/local/lib/python3.8/dist-packages (3.5.1)\n",
            "Requirement already satisfied: cffi>=1.10.0 in /usr/local/lib/python3.8/dist-packages (from rpy2==3.5.1) (1.15.1)\n",
            "Requirement already satisfied: tzlocal in /usr/local/lib/python3.8/dist-packages (from rpy2==3.5.1) (1.5.1)\n",
            "Requirement already satisfied: pytz in /usr/local/lib/python3.8/dist-packages (from rpy2==3.5.1) (2022.6)\n",
            "Requirement already satisfied: jinja2 in /usr/local/lib/python3.8/dist-packages (from rpy2==3.5.1) (2.11.3)\n",
            "Requirement already satisfied: pycparser in /usr/local/lib/python3.8/dist-packages (from cffi>=1.10.0->rpy2==3.5.1) (2.21)\n",
            "Requirement already satisfied: MarkupSafe>=0.23 in /usr/local/lib/python3.8/dist-packages (from jinja2->rpy2==3.5.1) (2.0.1)\n"
          ]
        }
      ],
      "source": [
        "!pip install rpy2==3.5.1"
      ]
    },
    {
      "cell_type": "code",
      "execution_count": 2,
      "metadata": {
        "id": "2tlSrU67SO9i"
      },
      "outputs": [],
      "source": [
        "%load_ext rpy2.ipython"
      ]
    },
    {
      "cell_type": "code",
      "execution_count": 3,
      "metadata": {
        "colab": {
          "base_uri": "https://localhost:8080/"
        },
        "id": "wuxDcdMORY2k",
        "outputId": "142d1ce6-2ca7-4c08-a5e9-0d9818635ef2"
      },
      "outputs": [
        {
          "output_type": "stream",
          "name": "stdout",
          "text": [
            "[1] 15\n"
          ]
        }
      ],
      "source": [
        "%%R\n",
        "m=3*5\n",
        "print(m)"
      ]
    },
    {
      "cell_type": "markdown",
      "metadata": {
        "id": "K_ZyP56eZV2C"
      },
      "source": [
        "# **Checking my skills on measures on central tendencies and measures of dispersion**"
      ]
    },
    {
      "cell_type": "code",
      "execution_count": null,
      "metadata": {
        "colab": {
          "base_uri": "https://localhost:8080/"
        },
        "id": "KofKzhtpSVyv",
        "outputId": "dd09b6ee-b2c1-486d-d5b2-94f3911b22f3"
      },
      "outputs": [
        {
          "name": "stdout",
          "output_type": "stream",
          "text": [
            "  X carat       cut color clarity depth table price length_mm width_mm depth_mm\n",
            "1 1  0.23     Ideal     E     SI2  61.5    55   326      3.95     3.98     2.43\n",
            "2 2  0.21   Premium     E     SI1  59.8    61   326      3.89     3.84     2.31\n",
            "3 3  0.23      Good     E     VS1  56.9    65   327      4.05     4.07     2.31\n",
            "4 4  0.29   Premium     I     VS2  62.4    58   334      4.20     4.23     2.63\n",
            "5 5  0.31      Good     J     SI2  63.3    58   335      4.34     4.35     2.75\n",
            "6 6  0.24 Very Good     J    VVS2  62.8    57   336      3.94     3.96     2.48\n",
            "       [,1]               [,2]     [,3]               [,4]               [,5]  \n",
            "header \"mean\"             \"median\" \"Variance\"         \"std dev\"          \"mode\"\n",
            "values \"61.6861466821886\" \"61.8\"   \"2.98608991319119\" \"1.72803064590626\" \"61.3\"\n",
            "       [,6]  [,7]   \n",
            "header \"IQR\" \"Range\"\n",
            "values \"1.7\" \"15.2\" \n"
          ]
        }
      ],
      "source": [
        "%%R\n",
        "data=read.csv('/content/diamonds.csv')\n",
        "print(head(data))\n",
        "x=data$depth\n",
        "T=table(x)\n",
        "m=mean(x); med=median(x); v=var(x); s=sd(x); mode=names(T)[which(T==max(T))]; IQR=IQR(x)\n",
        "; range=max(x)-min(x)\n",
        "header=c('mean','median','Variance','std dev','mode','IQR','Range')\n",
        "values=c(m,med,v,s,mode,IQR,range)\n",
        "rbind(header,values)"
      ]
    },
    {
      "cell_type": "markdown",
      "metadata": {
        "id": "01eVptoWefEe"
      },
      "source": [
        "## **Data Normalization - zscore**"
      ]
    },
    {
      "cell_type": "code",
      "execution_count": null,
      "metadata": {
        "colab": {
          "base_uri": "https://localhost:8080/"
        },
        "id": "HDbvm57GejtL",
        "outputId": "14529df1-f373-4afe-917f-a86ad1b7cfb9"
      },
      "outputs": [
        {
          "name": "stdout",
          "output_type": "stream",
          "text": [
            "[1] -5.026616  3.769524\n",
            "[1] 53.0 68.2\n"
          ]
        }
      ],
      "source": [
        "#zscore is used to normlize data and handling outliers within a dataset\n",
        "#seee example below using the same diamod dataset\n",
        "%%R\n",
        "z=(x-m)/s\n",
        "print(c(min(z),max(z)))\n",
        "print(c(min(x),max(x)))"
      ]
    },
    {
      "cell_type": "markdown",
      "metadata": {
        "id": "jE-pDOR9pao2"
      },
      "source": [
        "## **Running probability of Pr(AnB) etc**"
      ]
    },
    {
      "cell_type": "code",
      "execution_count": null,
      "metadata": {
        "colab": {
          "base_uri": "https://localhost:8080/"
        },
        "id": "NSVVeJWEmHUj",
        "outputId": "14d15ace-56ea-458a-84dc-300fdacb8e74"
      },
      "outputs": [
        {
          "name": "stderr",
          "output_type": "stream",
          "text": [
            "WARNING:rpy2.rinterface_lib.callbacks:R[write to console]: ── Attaching packages ─────────────────────────────────────── tidyverse 1.3.1 ──\n",
            "\n",
            "WARNING:rpy2.rinterface_lib.callbacks:R[write to console]: ✔ ggplot2 3.4.0      ✔ purrr   0.3.5 \n",
            "✔ tibble  3.1.8      ✔ dplyr   1.0.10\n",
            "✔ tidyr   1.2.1      ✔ stringr 1.4.1 \n",
            "✔ readr   2.1.3      ✔ forcats 0.5.2 \n",
            "\n",
            "WARNING:rpy2.rinterface_lib.callbacks:R[write to console]: ── Conflicts ────────────────────────────────────────── tidyverse_conflicts() ──\n",
            "✖ dplyr::filter() masks stats::filter()\n",
            "✖ dplyr::lag()    masks stats::lag()\n",
            "\n"
          ]
        }
      ],
      "source": [
        "%%R\n",
        "library(tidyverse)"
      ]
    },
    {
      "cell_type": "code",
      "execution_count": null,
      "metadata": {
        "colab": {
          "base_uri": "https://localhost:8080/"
        },
        "id": "Qbfok9QRnZyr",
        "outputId": "1ec19448-2b4a-4a41-e339-c8d3a90af00d"
      },
      "outputs": [
        {
          "name": "stdout",
          "output_type": "stream",
          "text": [
            "              model  mpg cyl disp  hp drat    wt  qsec vs am gear carb\n",
            "1         Mazda RX4 21.0   6  160 110 3.90 2.620 16.46  0  1    4    4\n",
            "2     Mazda RX4 Wag 21.0   6  160 110 3.90 2.875 17.02  0  1    4    4\n",
            "3        Datsun 710 22.8   4  108  93 3.85 2.320 18.61  1  1    4    1\n",
            "4    Hornet 4 Drive 21.4   6  258 110 3.08 3.215 19.44  1  0    3    1\n",
            "5 Hornet Sportabout 18.7   8  360 175 3.15 3.440 17.02  0  0    3    2\n",
            "6           Valiant 18.1   6  225 105 2.76 3.460 20.22  1  0    3    1\n",
            "[1] \"the probability of J is,\" \"0.65625\"                 \n",
            "[1] \"the probability of JnK is,\" \"0.5625\"                    \n"
          ]
        }
      ],
      "source": [
        "%%R\n",
        "cars=read.csv('/content/mtcars.csv')\n",
        "print(head(cars))\n",
        "J=filter(cars,cars$cyl>4)\n",
        "K=filter(cars,cars$gear<5)\n",
        "\n",
        "#a pr(J) - the probability of J over the total number of data sets in mtcars\n",
        "nJ=nrow(J); ncars=nrow(cars)\n",
        "prJ=nJ/ncars\n",
        "print(c('the probability of J is,', prJ))\n",
        "\n",
        "#b pr(JnK) - the intersectin of J and K over the total number of dataset in mtcars\n",
        "nAB=nrow(filter(cars,cars$cyl>4,cars$gear<5))\n",
        "prJK=nAB/ncars\n",
        "print(c('the probability of JnK is,', prJK))"
      ]
    },
    {
      "cell_type": "markdown",
      "metadata": {
        "id": "yn7kFf4PYCgO"
      },
      "source": [
        "## **Conditional probability**"
      ]
    },
    {
      "cell_type": "code",
      "execution_count": null,
      "metadata": {
        "colab": {
          "base_uri": "https://localhost:8080/"
        },
        "id": "edEKrCBRK2jv",
        "outputId": "a56cee3e-67d2-42a6-c4cb-6710a4ae0fed"
      },
      "outputs": [
        {
          "name": "stdout",
          "output_type": "stream",
          "text": [
            "[1] 0.21875\n",
            "[1] 0.15625\n"
          ]
        }
      ],
      "source": [
        "%%R\n",
        "#a\n",
        "#example from the moodle on-demand lesson\n",
        "#probability of x1==6 and x2==5 where x1=cyl and x2=gear\n",
        "a=nrow(filter(cars,cars$cyl==6))\n",
        "b=nrow(filter(cars,cars$gear==5))\n",
        "pra=a/nrow(cars)\n",
        "prb=b/nrow(cars)\n",
        "print(pra)\n",
        "print(prb)"
      ]
    },
    {
      "cell_type": "code",
      "execution_count": null,
      "metadata": {
        "colab": {
          "base_uri": "https://localhost:8080/"
        },
        "id": "RXtY9axGMV4Q",
        "outputId": "208dd3e9-71f8-4bc0-ea1f-82e07eb396b6"
      },
      "outputs": [
        {
          "name": "stdout",
          "output_type": "stream",
          "text": [
            "[1] 0.9333333\n"
          ]
        }
      ],
      "source": [
        "%%R\n",
        "#b Pr(c|d)\n",
        "c=nrow(filter(cars,cars$cyl>5))\n",
        "d=nrow(filter(cars,cars$gear<4))\n",
        "cd=nrow(filter(cars,cars$cyl>5,cars$gear<4))\n",
        "Pr_d=d/nrow(cars)\n",
        "Pr_cd=cd/nrow(cars)\n",
        "Pr_cGivend=Pr_cd/Pr_d\n",
        "print(Pr_cGivend)"
      ]
    },
    {
      "cell_type": "code",
      "execution_count": null,
      "metadata": {
        "colab": {
          "base_uri": "https://localhost:8080/"
        },
        "id": "EHGWkKQ2Yi26",
        "outputId": "cc8dd0ce-6781-438d-ce5d-609d4098da91"
      },
      "outputs": [
        {
          "name": "stdout",
          "output_type": "stream",
          "text": [
            "  breaks wool tension\n",
            "1     26    A       L\n",
            "2     30    A       L\n",
            "3     54    A       L\n",
            "4     25    A       L\n",
            "5     70    A       L\n",
            "6     52    A       L\n",
            "[1] 0.5\n",
            "[1] 0.3333333\n",
            "[1] 0.1666667\n",
            "[1] 0.5\n"
          ]
        }
      ],
      "source": [
        "%%R\n",
        "#knowledge check exercise from downloaded dataset from moodle\n",
        "tdata=read.csv('/content/dataset-19372.csv')\n",
        "head(tdata)\n",
        "pWool=nrow(filter(tdata,tdata$wool=='A'))\n",
        "ptension=nrow(filter(tdata,tdata$tension=='L'))\n",
        "\n",
        "#a find p(wool=A)\n",
        "PrW=pWool/nrow(tdata)\n",
        "#b find p(tension=L)\n",
        "PrT=ptension/nrow(tdata)\n",
        "#c p(wool=A|tension=L)\n",
        "WT=nrow(filter(tdata,tdata$wool=='A',tdata$tension=='L'))\n",
        "PrWT=WT/nrow(tdata)\n",
        "PrWgivenT=PrWT/PrT\n",
        "print(head(tdata))\n",
        "print(PrW)\n",
        "print(PrT)\n",
        "print(PrWT)\n",
        "print(PrWgivenT)"
      ]
    },
    {
      "cell_type": "code",
      "execution_count": null,
      "metadata": {
        "colab": {
          "base_uri": "https://localhost:8080/"
        },
        "id": "ilhRpDEN4d4N",
        "outputId": "7b69cad3-c129-44ae-e1f1-b9aadaafd702"
      },
      "outputs": [
        {
          "name": "stdout",
          "output_type": "stream",
          "text": [
            "[1] 0.6666667\n",
            "[1] 0.3333333\n",
            "[1] 0.6666667\n"
          ]
        }
      ],
      "source": [
        "#considering the dataset again but this time tension=M,H and wool=A\n",
        "%%R\n",
        "ptensions=nrow(filter(tdata,tdata$tension!='L'))\n",
        "PrTs=ptensions/nrow(tdata)\n",
        "WTs=nrow(filter(tdata,tdata$wool=='A',tdata$tension!='L'))\n",
        "PrWTs=WTs/nrow(tdata)\n",
        "PrWgivenTs=PrWTs/PrW #PrW is probability of wool in previous block of codes\n",
        "print(PrTs)\n",
        "print(PrWTs)\n",
        "print(PrWgivenTs)"
      ]
    },
    {
      "cell_type": "code",
      "execution_count": null,
      "metadata": {
        "colab": {
          "base_uri": "https://localhost:8080/"
        },
        "id": "u1V92QFLZ8o3",
        "outputId": "3c2c2078-fa0e-4d6a-91bd-dbcb7f986882"
      },
      "outputs": [
        {
          "name": "stdout",
          "output_type": "stream",
          "text": [
            "      Location Fertility Agriculture Examination Education Catholic\n",
            "1   Courtelary      80.2        17.0          15        12     9.96\n",
            "2     Delemont      83.1        45.1           6         9    84.84\n",
            "3 Franches-Mnt      92.5        39.7           5         5    93.40\n",
            "4      Moutier      85.8        36.5          12         7    33.77\n",
            "5   Neuveville      76.9        43.5          17        15     5.16\n",
            "6   Porrentruy      76.1        35.3           9         7    90.57\n",
            "  Infant.Mortality\n",
            "1             22.2\n",
            "2             22.2\n",
            "3             20.2\n",
            "4             20.3\n",
            "5             20.6\n",
            "6             26.6\n",
            "[1] 0.787234\n",
            "[1] 0.5957447\n",
            "[1] 0.5135135\n"
          ]
        }
      ],
      "source": [
        "#considering the swiss.csv dataset for some conditional probability exercises\n",
        "%%R\n",
        "swiss=read.csv('/content/swiss.csv')\n",
        "print(head(swiss))\n",
        "A=nrow(filter(swiss,swiss$Examination>10))\n",
        "B=nrow(filter(swiss,swiss$Education>9))\n",
        "#a\n",
        "prA=A/nrow(swiss)\n",
        "print(prA)\n",
        "#b compute p(Bc) where Bc is complements of B\n",
        "prB=B/nrow(swiss)\n",
        "pBc=1-prB\n",
        "print(pBc)\n",
        "#c compute p(B|A)\n",
        "AB=nrow(filter(swiss,swiss$Examination>10,swiss$Education>9))\n",
        "prAB=AB/nrow(swiss)\n",
        "pBgivenA=prAB/prA\n",
        "print(pBgivenA)\n"
      ]
    },
    {
      "cell_type": "markdown",
      "metadata": {
        "id": "jBTDLIceclhd"
      },
      "source": [
        "## **Continous Probability Models**"
      ]
    },
    {
      "cell_type": "markdown",
      "metadata": {
        "id": "gD5Pj-HMCnQX"
      },
      "source": [
        "the probability distribution function for a Gamma model is -\n",
        "(a) Ti~exp(lambda=(lambda rate))\n",
        "(b) where there are more than one nodes, use the additive function - e.g, ![image.png](data:image/png;base64,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)\n",
        "\n",
        "the alpha is the number of nodes. so if you have say T1, T2, T3 then the alpha is 3. got it?\n",
        "\n",
        "recall that SD is the sqrt of Variance\n",
        "when looking for the ExpValue and SD of the distribution. also, ExpValue = alpha/lambda and Variance = alpha/lambda^2 while SD is the sqrt of Variance.\n",
        "![image.png](data:image/png;base64,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)"
      ]
    },
    {
      "cell_type": "markdown",
      "metadata": {
        "id": "u6bE8Vv9p3Ul"
      },
      "source": [
        "## **Hypothesis Testing**"
      ]
    },
    {
      "cell_type": "code",
      "execution_count": null,
      "metadata": {
        "id": "_BiwRAWzp_Hj"
      },
      "outputs": [],
      "source": []
    },
    {
      "cell_type": "markdown",
      "metadata": {
        "id": "6yxMmXDTkEkB"
      },
      "source": [
        "## **GLM**"
      ]
    },
    {
      "cell_type": "code",
      "execution_count": null,
      "metadata": {
        "colab": {
          "base_uri": "https://localhost:8080/"
        },
        "id": "cnoLbGAHkIK1",
        "outputId": "359d106a-cba5-4c86-e5f3-98d827569c31"
      },
      "outputs": [
        {
          "name": "stdout",
          "output_type": "stream",
          "text": [
            "      Location Fertility Agriculture Examination Education Catholic\n",
            "1   Courtelary      80.2        17.0          15        12     9.96\n",
            "2     Delemont      83.1        45.1           6         9    84.84\n",
            "3 Franches-Mnt      92.5        39.7           5         5    93.40\n",
            "4      Moutier      85.8        36.5          12         7    33.77\n",
            "5   Neuveville      76.9        43.5          17        15     5.16\n",
            "6   Porrentruy      76.1        35.3           9         7    90.57\n",
            "  Infant.Mortality\n",
            "1             22.2\n",
            "2             22.2\n",
            "3             20.2\n",
            "4             20.3\n",
            "5             20.6\n",
            "6             26.6\n"
          ]
        }
      ],
      "source": [
        "%%R\n",
        "head(swiss)"
      ]
    },
    {
      "cell_type": "code",
      "execution_count": null,
      "metadata": {
        "colab": {
          "base_uri": "https://localhost:8080/"
        },
        "id": "Vbj84TnKkgoz",
        "outputId": "584d790e-a67c-48ca-b147-7256bced509c"
      },
      "outputs": [
        {
          "name": "stdout",
          "output_type": "stream",
          "text": [
            "     (Intercept)      Agriculture      Examination        Education \n",
            "      66.9151817       -0.1721140       -0.2580082       -0.8709401 \n",
            "        Catholic Infant.Mortality \n",
            "       0.1041153        1.0770481 \n",
            "\n",
            "Call:\n",
            "glm(formula = Fertility ~ Agriculture + Examination + Education + \n",
            "    Catholic + Infant.Mortality, family = \"gaussian\", data = swiss)\n",
            "\n",
            "Deviance Residuals: \n",
            "     Min        1Q    Median        3Q       Max  \n",
            "-15.2743   -5.2617    0.5032    4.1198   15.3213  \n",
            "\n",
            "Coefficients:\n",
            "                 Estimate Std. Error t value Pr(>|t|)    \n",
            "(Intercept)      66.91518   10.70604   6.250 1.91e-07 ***\n",
            "Agriculture      -0.17211    0.07030  -2.448  0.01873 *  \n",
            "Examination      -0.25801    0.25388  -1.016  0.31546    \n",
            "Education        -0.87094    0.18303  -4.758 2.43e-05 ***\n",
            "Catholic          0.10412    0.03526   2.953  0.00519 ** \n",
            "Infant.Mortality  1.07705    0.38172   2.822  0.00734 ** \n",
            "---\n",
            "Signif. codes:  0 ‘***’ 0.001 ‘**’ 0.01 ‘*’ 0.05 ‘.’ 0.1 ‘ ’ 1\n",
            "\n",
            "(Dispersion parameter for gaussian family taken to be 51.34251)\n",
            "\n",
            "    Null deviance: 7178  on 46  degrees of freedom\n",
            "Residual deviance: 2105  on 41  degrees of freedom\n",
            "AIC: 326.07\n",
            "\n",
            "Number of Fisher Scoring iterations: 2\n",
            "\n"
          ]
        }
      ],
      "source": [
        "%%R\n",
        "model=glm(Fertility~Agriculture+Examination+Education+Catholic+Infant.Mortality, data=swiss, family='gaussian')\n",
        "#a. estimate the parameters of the model\n",
        "print(coef(model))\n",
        "#b. specify the significat independent varibles at alpha=0.01 (that will be Edu, Cath & Infant.Mort)\n",
        "summary(model)\n"
      ]
    },
    {
      "cell_type": "code",
      "execution_count": null,
      "metadata": {
        "colab": {
          "base_uri": "https://localhost:8080/"
        },
        "id": "fB7oGcmajFby",
        "outputId": "e1a7c0da-be84-4451-dd2b-e8440ff65f8e"
      },
      "outputs": [
        {
          "name": "stdout",
          "output_type": "stream",
          "text": [
            "[1] 74.82513\n"
          ]
        }
      ],
      "source": [
        "#c. find the predicted values if independent variables are - agric=12, exam=14, edu=3, cath=9, infant=4.6\n",
        "%%R\n",
        "swiss_new=c(1,0,0,3,9,8.9) #the non significnt values are assigend 0 while the significant variables go with the flow\n",
        "pred=sum(swiss_new*coef(model))\n",
        "pred"
      ]
    },
    {
      "cell_type": "markdown",
      "metadata": {
        "id": "C0_JSFDA0u2t"
      },
      "source": [
        "## **#testing my skills on predictions using R and GLM**"
      ]
    },
    {
      "cell_type": "code",
      "execution_count": 5,
      "metadata": {
        "colab": {
          "base_uri": "https://localhost:8080/"
        },
        "id": "FQmiIaNn0-VC",
        "outputId": "5adef5e9-39df-4d42-a154-b39d7a8c752f"
      },
      "outputs": [
        {
          "output_type": "stream",
          "name": "stdout",
          "text": [
            "  EntryAge PlanID Status MaturityDate Duration Sex     SumAssured Rating Height\n",
            "1       18      3      2     1-Feb-23        1   2    500,000.00       1   0.00\n",
            "2       18      1      1     1-Aug-23        2   1    500,000.00       1   1.60\n",
            "3       18     11      2     1-Jun-36       15   2  8,495,196.00       1   1.60\n",
            "4       18     11      2     1-Jun-36       15   2  5,658,585.00       1   1.63\n",
            "5       18      1      1     1-Jul-23        2   2    500,000.00       1   1.68\n",
            "6       18     11      9     1-Nov-36       15   2  2,164,000.00       1   1.68\n",
            "  Weight\n",
            "1      0\n",
            "2     65\n",
            "3     63\n",
            "4     65\n",
            "5     50\n",
            "6     60\n"
          ]
        }
      ],
      "source": [
        "%%R\n",
        "data=read.csv('/content/20221208 Data.csv')\n",
        "head(data)"
      ]
    },
    {
      "cell_type": "code",
      "execution_count": 17,
      "metadata": {
        "colab": {
          "base_uri": "https://localhost:8080/"
        },
        "id": "x6yV7g0xI9CD",
        "outputId": "39096740-674d-43db-a5d6-8ba37938a2a0"
      },
      "outputs": [
        {
          "output_type": "stream",
          "name": "stdout",
          "text": [
            "[1] 49779\n",
            "\n",
            "Call:\n",
            "glm(formula = Status ~ PlanID + Duration + Sex + EntryAge + Rating, \n",
            "    family = \"gaussian\", data = df)\n",
            "\n",
            "Deviance Residuals: \n",
            "    Min       1Q   Median       3Q      Max  \n",
            "-5.5772  -2.5277  -0.0073   3.2240   5.6941  \n",
            "\n",
            "Coefficients:\n",
            "             Estimate Std. Error t value Pr(>|t|)    \n",
            "(Intercept)  4.712991   0.086158  54.701  < 2e-16 ***\n",
            "PlanID       0.135380   0.004638  29.191  < 2e-16 ***\n",
            "Duration     0.054795   0.003555  15.413  < 2e-16 ***\n",
            "Sex         -0.167099   0.029209  -5.721 1.07e-08 ***\n",
            "EntryAge    -0.028003   0.001529 -18.315  < 2e-16 ***\n",
            "Rating      -0.072840   0.008754  -8.321  < 2e-16 ***\n",
            "---\n",
            "Signif. codes:  0 ‘***’ 0.001 ‘**’ 0.01 ‘*’ 0.05 ‘.’ 0.1 ‘ ’ 1\n",
            "\n",
            "(Dispersion parameter for gaussian family taken to be 8.655483)\n",
            "\n",
            "    Null deviance: 465879  on 49778  degrees of freedom\n",
            "Residual deviance: 430809  on 49773  degrees of freedom\n",
            "AIC: 248707\n",
            "\n",
            "Number of Fisher Scoring iterations: 2\n",
            "\n",
            "[1] 2.930365\n"
          ]
        }
      ],
      "source": [
        "%%R\n",
        "df=na.omit(data)\n",
        "head(df)\n",
        "print(nrow(df))\n",
        "model=glm(Status~PlanID+Duration+Sex+EntryAge+Rating, data=df, family='gaussian')\n",
        "coef(model)\n",
        "print(summary(model))\n",
        "\n",
        "#model evalulation\n",
        "set.seed(134)\n",
        "row_count=nrow(df)\n",
        "data_split=sample(row_count,row_count*(80/100))\n",
        "train_data=df[data_split,]\n",
        "test_data=df[-data_split,]\n",
        "\n",
        "#fitting the model on the trainset\n",
        "model=glm(Status~PlanID+Duration+Sex+EntryAge+Rating, data=train_data, family='gaussian')\n",
        "\n",
        "#predicting the testset\n",
        "prediction=predict(model,test_data)\n",
        "actual=test_data$Status\n",
        "mse=sum((prediction-actual)^2)/nrow(test_data)\n",
        "rmse=sqrt(mse)\n",
        "rmse\n",
        "\n",
        "##trying the confusion matrix\n",
        "#conf_mat=table(prediction[,3],actual=test_data[,3])\n",
        "#conf_mat"
      ]
    },
    {
      "cell_type": "markdown",
      "source": [
        "## **Time Series Analysis**"
      ],
      "metadata": {
        "id": "NVBnUgIx4TQ8"
      }
    },
    {
      "cell_type": "code",
      "source": [],
      "metadata": {
        "id": "Kdu4-CVi4Xow"
      },
      "execution_count": null,
      "outputs": []
    }
  ],
  "metadata": {
    "colab": {
      "provenance": [],
      "authorship_tag": "ABX9TyMBB0XUB1iwdcD66EZNDwAO",
      "include_colab_link": true
    },
    "kernelspec": {
      "display_name": "Python 3",
      "name": "python3"
    },
    "language_info": {
      "name": "python"
    }
  },
  "nbformat": 4,
  "nbformat_minor": 0
}